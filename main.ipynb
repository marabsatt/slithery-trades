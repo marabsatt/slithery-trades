{
 "cells": [
  {
   "cell_type": "code",
   "execution_count": null,
   "id": "fe5a6581-0090-46e4-995e-069f36318bf8",
   "metadata": {},
   "outputs": [],
   "source": [
    "# Class for accessing financial data\n",
    "import yfinance as yf\n",
    "\n",
    "# Class(s) for Data analysis and visualization\n",
    "import numpy as np\n",
    "import pandas as pd\n",
    "import matplotlib.pyplot as plt\n",
    "\n",
    "# Class for  Connecting to Interactive Brokers\n",
    "from ib_insync import *\n",
    "import nest_asyncio\n",
    "\n",
    "# Class for portfolio optimization\n",
    "import riskfolio as rf\n",
    "\n",
    "# Classes for Web scraping\n",
    "import requests\n",
    "from bs4 import BeautifulSoup\n",
    "\n",
    "# Class(s) for supportive functions\n",
    "from datetime import datetime as dt\n",
    "import math\n",
    "import random\n",
    "import copy\n",
    "from time import sleep\n",
    "import warnings\n",
    "from waiting import wait, TimeoutExpired"
   ]
  },
  {
   "cell_type": "code",
   "execution_count": null,
   "id": "ecb99c42",
   "metadata": {},
   "outputs": [],
   "source": [
    "pd.options.display.float_format = \"{:.4%}\".format\n",
    "warnings.filterwarnings(\"ignore\")"
   ]
  },
  {
   "cell_type": "code",
   "execution_count": 134,
   "id": "ba1f5e36",
   "metadata": {},
   "outputs": [
    {
     "data": {
      "text/markdown": [
       "****\n",
       "# Collecting Stock Data\n",
       "## Collecting Stocks listed in the Nasdaq and S&P 500\n",
       "****\n"
      ],
      "text/plain": [
       "<IPython.core.display.Markdown object>"
      ]
     },
     "metadata": {},
     "output_type": "display_data"
    }
   ],
   "source": [
    "%%markdown\n",
    "****\n",
    "# Collecting Stock Data\n",
    "## Collecting Stocks listed in the Nasdaq and S&P 500\n",
    "****"
   ]
  },
  {
   "cell_type": "code",
   "execution_count": null,
   "id": "6baf5990",
   "metadata": {},
   "outputs": [],
   "source": [
    "url = \"http://en.wikipedia.org/wiki/Nasdaq-100#Components\"\n",
    "headers = {'User-Agent': 'Mozilla/5.0 (Windows NT 10.0; Win64; x64) AppleWebKit/537.36 (KHTML, like Gecko) Chrome/91.0.4472.124 Safari/537.36'}\n",
    "\n",
    "try:\n",
    "    response = requests.get(url, headers=headers)\n",
    "    response.raise_for_status()  # Raise an exception for HTTP errors\n",
    "    html_content = response.text  # Print the HTML content of the page\n",
    "    soup = BeautifulSoup(html_content, 'html.parser')\n",
    "    table = soup.find('table', {'class': 'wikitable sortable'})\n",
    "    company_ticker = pd.read_html(str(table))[0]\n",
    "    nasdaq_stocks = company_ticker['Ticker']\n",
    "    \n",
    "except requests.exceptions.RequestException as e:\n",
    "    print(f\"Error fetching URL: {e}\")"
   ]
  },
  {
   "cell_type": "code",
   "execution_count": null,
   "id": "782f74dc",
   "metadata": {},
   "outputs": [],
   "source": [
    "url = \"https://en.wikipedia.org/wiki/List_of_S%26P_500_companies\"\n",
    "headers = {'User-Agent': 'Mozilla/5.0 (Windows NT 10.0; Win64; x64) AppleWebKit/537.36 (KHTML, like Gecko) Chrome/91.0.4472.124 Safari/537.36'}\n",
    "\n",
    "try:\n",
    "    response = requests.get(url, headers=headers)\n",
    "    response.raise_for_status()  # Raise an exception for HTTP errors\n",
    "    html_content = response.text  # Print the HTML content of the page\n",
    "    soup = BeautifulSoup(html_content, 'html.parser')\n",
    "    tables = pd.read_html(str(soup))\n",
    "    sp_stocks = tables[0]['Symbol']\n",
    "    \n",
    "except requests.exceptions.RequestException as e:\n",
    "    print(f\"Error fetching URL: {e}\")"
   ]
  },
  {
   "cell_type": "code",
   "execution_count": null,
   "id": "7b9ccb23-7e5e-4c68-a540-843b8de39d61",
   "metadata": {},
   "outputs": [],
   "source": [
    "nasdaq_ticker_list = nasdaq_stocks.tolist()"
   ]
  },
  {
   "cell_type": "code",
   "execution_count": null,
   "id": "4f7965f2",
   "metadata": {},
   "outputs": [],
   "source": [
    "sp_ticker_list = sp_stocks.tolist()"
   ]
  },
  {
   "cell_type": "code",
   "execution_count": null,
   "id": "9212d891",
   "metadata": {},
   "outputs": [],
   "source": [
    "# Changing the ticker format to match the format in Yahoo finance for the following BRK.B and BF.B\n",
    "sp_ticker_list[sp_ticker_list.index('BRK.B')] = 'BRK-B'\n",
    "sp_ticker_list[sp_ticker_list.index('BF.B')] = 'BF-B'"
   ]
  },
  {
   "cell_type": "code",
   "execution_count": null,
   "id": "b4d62879",
   "metadata": {},
   "outputs": [],
   "source": [
    "# Combining the two lists and removing duplicates\n",
    "long_ticker = list(set(sp_ticker_list + nasdaq_ticker_list))"
   ]
  },
  {
   "cell_type": "code",
   "execution_count": 135,
   "id": "efaded75",
   "metadata": {},
   "outputs": [
    {
     "data": {
      "text/markdown": [
       "****\n",
       "# Downloading historical data for each stock from Yahoo Finance\n",
       "****\n"
      ],
      "text/plain": [
       "<IPython.core.display.Markdown object>"
      ]
     },
     "metadata": {},
     "output_type": "display_data"
    }
   ],
   "source": [
    "%%markdown\n",
    "****\n",
    "# Downloading historical data for each stock from Yahoo Finance\n",
    "****"
   ]
  },
  {
   "cell_type": "code",
   "execution_count": null,
   "id": "acb07313",
   "metadata": {},
   "outputs": [],
   "source": [
    "long_df = pd.DataFrame()\n",
    "failed_tickers = []\n",
    "for ticker in long_ticker:\n",
    "    try:\n",
    "        long_df[ticker] = yf.download(ticker, period = '3y', interval = '1mo')['Close']\n",
    "        # Calculate technical indicators\n",
    "        # Using Simple Moving Average to determine Stocks that have upward momentum\n",
    "        long_df[f'{ticker}_SMA5'] = long_df[ticker].rolling(window=5).mean()\n",
    "        long_df[f'{ticker}_SMA15'] = long_df[ticker].rolling(window=15).mean()\n",
    "        long_df[f'{ticker}_prev_SMA5'] = long_df[f'{ticker}_SMA5'].shift(1)\n",
    "        long_df[f'{ticker}_prev_SMA15'] = long_df[f'{ticker}_SMA15'].shift(1)\n",
    "\n",
    "    except Exception as e:\n",
    "        failed_tickers.append(ticker)"
   ]
  },
  {
   "cell_type": "code",
   "execution_count": null,
   "id": "9d14fa3c",
   "metadata": {},
   "outputs": [],
   "source": [
    "bullish_list=[]\n",
    "bearish_list=[]\n",
    "error_list=[]\n",
    "for ticker in long_ticker:\n",
    "    try:\n",
    "        # Determine if the stock is bullish or bearish based on SMA crossover\n",
    "        condition = (long_df[f'{ticker}_SMA5'] > long_df[f'{ticker}_SMA15']) & (long_df[f'{ticker}_prev_SMA5'] >= long_df[f'{ticker}_prev_SMA15'])\n",
    "        if condition.iloc[-1] == True:\n",
    "            bullish_list.append(ticker)\n",
    "        else:\n",
    "            bearish_list.append(ticker)\n",
    "    except Exception as e:\n",
    "        error_list.append((ticker, str(e)))\n"
   ]
  },
  {
   "cell_type": "code",
   "execution_count": null,
   "id": "58049620-fea1-4f55-8839-033a5e8081f0",
   "metadata": {},
   "outputs": [],
   "source": [
    "def pflio(DF,m,x):\n",
    "    \"\"\"Returns cumulative portfolio return\n",
    "    DF = dataframe with monthly return info for all stocks\n",
    "    m = number of stocks to keep in the portfolio\n",
    "    x = number of underperforming stocks to be removed from portfolio monthly\"\"\"\n",
    "    df = DF.copy()\n",
    "    portfolio = []\n",
    "    monthly_ret = [0]\n",
    "    for i in range(len(df)):\n",
    "        if len(portfolio) > 0:\n",
    "            monthly_ret.append(df[portfolio].iloc[i,:].mean())\n",
    "            bad_stocks = df[portfolio].iloc[i,:].sort_values(ascending=True)[:x].index.values.tolist()\n",
    "            portfolio = [t for t in portfolio if t not in bad_stocks]\n",
    "        fill = m - len(portfolio)\n",
    "        new_picks = df.iloc[i,:].sort_values(ascending=False)[:fill].index.values.tolist()\n",
    "        portfolio = portfolio + new_picks\n",
    "        print('\\n list of stocks to go long: \\n', portfolio)\n",
    "    return portfolio"
   ]
  },
  {
   "cell_type": "code",
   "execution_count": null,
   "id": "21b607d4-52a7-4611-b853-8c8a2b1cee4f",
   "metadata": {},
   "outputs": [],
   "source": [
    "# Creating an empty dictionary which will be filled with Open, High, Low, Close, Volume dataframe for each ticker\n",
    "ohlcv_data = {} \n",
    "for ticker in bullish_list: \n",
    "    ohlcv_data[ticker] = yf.download(ticker, period = '5y', interval = '1mo')\n",
    "    ohlcv_data[ticker].dropna(inplace = True, how = 'all')\n",
    "bullish_tickers = ohlcv_data.keys()"
   ]
  },
  {
   "cell_type": "code",
   "execution_count": null,
   "id": "12124f13-f95e-4b7d-ac3e-31789aa637f0",
   "metadata": {},
   "outputs": [],
   "source": [
    "ohlcv_dict = copy.deepcopy(ohlcv_data)\n",
    "bullish_return_df = pd.DataFrame()\n",
    "for ticker in bullish_tickers:\n",
    "    print('calculating monthly return for',ticker)\n",
    "    ohlcv_dict[ticker]['mon_return'] = ohlcv_dict[ticker]['Close'].pct_change()\n",
    "    bullish_return_df[ticker] = ohlcv_dict[ticker]['mon_return']\n",
    "bullish_return_df.dropna(how='all',axis=0, inplace=True)"
   ]
  },
  {
   "cell_type": "code",
   "execution_count": null,
   "id": "e718cbac-e53c-4200-8444-5339c9a94544",
   "metadata": {},
   "outputs": [],
   "source": [
    "long_list = pflio(bullish_return_df,20,10)"
   ]
  },
  {
   "cell_type": "code",
   "execution_count": 136,
   "id": "e147de5b",
   "metadata": {},
   "outputs": [
    {
     "data": {
      "text/markdown": [
       "****\n",
       "# Portfolio Optimization Process using Riskfolio-Lib\n",
       "****\n"
      ],
      "text/plain": [
       "<IPython.core.display.Markdown object>"
      ]
     },
     "metadata": {},
     "output_type": "display_data"
    }
   ],
   "source": [
    "%%markdown\n",
    "****\n",
    "# Portfolio Optimization Process using Riskfolio-Lib\n",
    "****"
   ]
  },
  {
   "cell_type": "code",
   "execution_count": null,
   "id": "a6acc54b",
   "metadata": {},
   "outputs": [],
   "source": [
    "# Sleeping 1 minute since over 500 calls was made to yfinance\n",
    "sleep(60)\n",
    "port_returns = (\n",
    "    yf.download(\n",
    "        long_list,\n",
    "        period  = '1mo' \n",
    "    )[\"Close\"]\n",
    "    .pct_change()\n",
    "    .dropna()\n",
    ")"
   ]
  },
  {
   "cell_type": "code",
   "execution_count": null,
   "id": "14346758",
   "metadata": {},
   "outputs": [],
   "source": [
    "# These factors is a list of indicies that aims to track the performance\n",
    "# of a particular startegy applied to the U.S. equity market\n",
    "\n",
    "factors = [\"MTUM\", \"QUAL\", \"VLUE\", \"SIZE\", \"USMV\"]"
   ]
  },
  {
   "cell_type": "code",
   "execution_count": null,
   "id": "f77be237",
   "metadata": {},
   "outputs": [],
   "source": [
    "factor_returns = (\n",
    "    yf.download(\n",
    "        factors, \n",
    "        period  = '1mo'\n",
    "    )[\"Close\"]\n",
    "    .pct_change()\n",
    "    .dropna()\n",
    ")"
   ]
  },
  {
   "cell_type": "code",
   "execution_count": null,
   "id": "c711c423",
   "metadata": {},
   "outputs": [],
   "source": [
    "port = rf.Portfolio(returns = port_returns)\n",
    "\n",
    "port.assets_stats(method_mu = \"hist\", \n",
    "                  method_cov = \"ledoit\"\n",
    "                  )\n",
    "\n",
    "port.lowerret = 0.00056488 * 1.5\n",
    "\n",
    "loadings = rf.loadings_matrix(\n",
    "    X = factor_returns,\n",
    "    Y = port_returns, \n",
    "    feature_selection = \"PCR\",\n",
    "    n_components = 0.95\n",
    ")"
   ]
  },
  {
   "cell_type": "code",
   "execution_count": null,
   "id": "84b342b6",
   "metadata": {},
   "outputs": [],
   "source": [
    "loadings.style.format(\"{:.4f}\").background_gradient(cmap='RdYlGn')"
   ]
  },
  {
   "cell_type": "code",
   "execution_count": null,
   "id": "d225239d",
   "metadata": {},
   "outputs": [],
   "source": [
    "port.factors = factor_returns\n",
    "\n",
    "port.factors_stats(\n",
    "    method_mu = \"hist\",\n",
    "    method_cov = \"ledoit\",\n",
    ")"
   ]
  },
  {
   "cell_type": "code",
   "execution_count": null,
   "id": "27f429be",
   "metadata": {},
   "outputs": [],
   "source": [
    "w = port.optimization(\n",
    "    model = \"FM\",\n",
    "    rm = \"MV\",\n",
    "    obj = \"Sharpe\",\n",
    "    hist = True\n",
    ")"
   ]
  },
  {
   "cell_type": "code",
   "execution_count": null,
   "id": "a60cbd23",
   "metadata": {},
   "outputs": [],
   "source": [
    "w.reset_index(inplace = True)\n",
    "w.rename(columns={'index':'ticker', 'weights':'weights'}, inplace = True)\n",
    "w.sort_values('weights')"
   ]
  },
  {
   "cell_type": "code",
   "execution_count": null,
   "id": "936330ab",
   "metadata": {},
   "outputs": [],
   "source": [
    "w[w['weights'] < .01] = np.nan\n",
    "w.dropna(inplace = True)\n",
    "w\n"
   ]
  },
  {
   "cell_type": "code",
   "execution_count": null,
   "id": "78afb335",
   "metadata": {},
   "outputs": [],
   "source": [
    "# Sorting the weights in descending order\n",
    "w.sort_values('weights', ascending=False)"
   ]
  },
  {
   "cell_type": "code",
   "execution_count": null,
   "id": "bd2555f6-dce5-456f-9dee-9b0c5cb8417a",
   "metadata": {},
   "outputs": [],
   "source": [
    "long_dict = {} # empty dictionary which will be filled with ohlcv dataframe for each ticker\n",
    "op_ticker_list = w['ticker'].to_list()\n",
    "for long_op_ticker in op_ticker_list:\n",
    "    long_dict[long_op_ticker] = yf.download(long_op_ticker, period = '1mo')\n",
    "    long_dict[long_op_ticker].dropna(inplace = True, how = 'all')\n",
    "tickers = long_dict.keys()"
   ]
  },
  {
   "cell_type": "code",
   "execution_count": null,
   "id": "b1e4373f",
   "metadata": {},
   "outputs": [
    {
     "data": {
      "text/markdown": [
       "****\n",
       "# Connecting to Interactive Brokers\n",
       "***\n"
      ],
      "text/plain": [
       "<IPython.core.display.Markdown object>"
      ]
     },
     "metadata": {},
     "output_type": "display_data"
    }
   ],
   "source": [
    "%%markdown\n",
    "***\n",
    "# Connecting to Interactive Brokers\n",
    "***"
   ]
  },
  {
   "cell_type": "code",
   "execution_count": null,
   "id": "4b482e38-304b-49e4-bbe8-bce8dc98b695",
   "metadata": {},
   "outputs": [],
   "source": [
    "nest_asyncio.apply()\n",
    "\n",
    "# Connect to IB Gateway\n",
    "ib = IB()\n",
    "# For Paper Trading\n",
    "#ib.connect('127.0.0.1', 4002, clientId=random.randint(1, 99))\n",
    "# For Live Trading\n",
    "# ib.connect('127.0.0.1', 4001, clientId=random.randint(1, 99))\n",
    "\n",
    "# Connect to IB TWS\n",
    "# ib = IB()\n",
    "# For Paper Trading\n",
    "ib.connect('127.0.0.1', 7497, clientId = random.randint(1,99))\n",
    "# For Live Trading\n",
    "# ib.connect('127.0.0.1', 7496, clientId = random.randint(1,99))"
   ]
  },
  {
   "cell_type": "code",
   "execution_count": null,
   "id": "2cff3514-a02b-4e22-83ea-9452bbb9eedc",
   "metadata": {},
   "outputs": [],
   "source": [
    "def buy_stock(long_ticker: str, buy_diff: float = None):\n",
    "        \n",
    "        # Checking the account balance\n",
    "        acct_bal = float(ib.accountSummary()[9].value)\n",
    "        \n",
    "        stock = Stock(\n",
    "            symbol = long_ticker, \n",
    "            exchange = 'SMART', \n",
    "            currency = 'USD'\n",
    "        )\n",
    "        \n",
    "        purchase_amount = ((float(w[w['ticker'] == f'{long_ticker}']['weights']) * acct_bal)) / (long_dict[long_ticker]['Close'].iloc[-1])\n",
    "\n",
    "        if buy_diff is None:\n",
    "            action = Order(\n",
    "                action = 'BUY', \n",
    "                totalQuantity = round(purchase_amount.item()), \n",
    "                orderType = 'MKT',  \n",
    "                tif = 'GTC', \n",
    "                outsideRth = True\n",
    "            )\n",
    "        \n",
    "        else:\n",
    "            action = Order(\n",
    "                action = 'BUY', \n",
    "                totalQuantity = math.ceil(buy_diff), \n",
    "                orderType = 'MKT',  \n",
    "                tif = 'GTC', \n",
    "                outsideRth = True\n",
    "            )  \n",
    "        \n",
    "        order = ib.placeOrder(stock, action)"
   ]
  },
  {
   "cell_type": "code",
   "execution_count": null,
   "id": "a0e34153-91d4-4fb6-aa58-7ba640d162c0",
   "metadata": {},
   "outputs": [],
   "source": [
    "def sell_stock(ticker: str, sell_diff: float = None):\n",
    "        stock = Stock(\n",
    "            symbol = ticker, \n",
    "            exchange = 'SMART', \n",
    "            currency = 'USD'\n",
    "        )\n",
    "        \n",
    "        for i in range (len(ib.positions())):\n",
    "            if ib.positions()[i].contract.symbol == ticker:\n",
    "                sell_amount = ib.positions()[i].position\n",
    "\n",
    "        if sell_diff is None:\n",
    "            action = Order(\n",
    "                action = 'SELL', \n",
    "                totalQuantity = sell_amount, \n",
    "                orderType = 'MKT',  \n",
    "                tif = 'GTC', \n",
    "                outsideRth = True\n",
    "            )\n",
    "        else:\n",
    "            action = Order(\n",
    "                action = 'SELL', \n",
    "                totalQuantity = math.ceil(sell_diff), \n",
    "                orderType = 'MKT',  \n",
    "                tif = 'GTC', \n",
    "                outsideRth = True\n",
    "            ) \n",
    "        \n",
    "        order = ib.placeOrder(stock, action)"
   ]
  },
  {
   "cell_type": "code",
   "execution_count": null,
   "id": "81f733c0",
   "metadata": {},
   "outputs": [],
   "source": [
    "current_holdings = []\n",
    "\n",
    "for i in range(len(ib.positions())):\n",
    "    current_holdings.append(ib.positions()[i].contract.symbol)"
   ]
  },
  {
   "cell_type": "code",
   "execution_count": null,
   "id": "a4c00e28-6be7-45e6-be74-ecdc3ce27180",
   "metadata": {},
   "outputs": [],
   "source": [
    "current_holdings = []\n",
    "\n",
    "for i in range(len(ib.positions())):\n",
    "    current_holdings.append(ib.positions()[i].contract.symbol)\n",
    "\n",
    "for holdings in current_holdings:\n",
    "    if holdings not in long_list: \n",
    "        try:\n",
    "            sell_stock(holdings)\n",
    "        except TimeoutExpired as timeout:\n",
    "            print(f'Sale of {holdings} {timeout} ')\n",
    "    \n",
    "    elif holdings in long_list:\n",
    "        for i in range(len(ib.positions())):\n",
    "            if ib.positions()[i].contract.symbol == holdings:\n",
    "                current_holding_port_percentage = ib.positions()[i].position * ib.positions()[i].avgCost / float(ib.accountSummary()[24].value)\n",
    "                if not w[w['ticker'] == f'{holdings}'].empty:\n",
    "                    new_holding_port_percentage = w[w['ticker'] == f'{holdings}']['weights'].iloc[0]\n",
    "                    \n",
    "                    if current_holding_port_percentage > new_holding_port_percentage:\n",
    "                        sell_diff = current_holding_port_percentage - new_holding_port_percentage\n",
    "                        try:\n",
    "                            sell_stock(ticker = holdings, sell_diff = sell_diff)\n",
    "                        except TimeoutExpired as timeout:\n",
    "                            print(f'Sale of {holdings} has been after {timeout}')\n",
    "                    \n",
    "                    elif current_holding_port_percentage < new_holding_port_percentage:\n",
    "                        buy_diff = new_holding_port_percentage - current_holding_port_percentage\n",
    "                        try:\n",
    "                            buy_stock(long_ticker = holdings, buy_diff = buy_diff)\n",
    "                        except ValueError as e:\n",
    "                            print(f'Error buying {holdings}: {e}')\n",
    "                else:\n",
    "                    sell_stock(holdings)\n",
    "                    print(f'{holdings} not found in the weights DataFrame, Therefore {holdings} was sold')\n",
    "    "
   ]
  },
  {
   "cell_type": "code",
   "execution_count": null,
   "id": "f169499d",
   "metadata": {},
   "outputs": [],
   "source": [
    "for long_op_ticker in op_ticker_list:\n",
    "    if long_op_ticker not in current_holdings:\n",
    "        try:\n",
    "            buy_stock(long_op_ticker)\n",
    "            ib.sleep(15)\n",
    "        except ValueError as e:\n",
    "            print(f'Error buying stock {long_op_ticker}: {e}')"
   ]
  },
  {
   "cell_type": "code",
   "execution_count": null,
   "id": "fe5e741e",
   "metadata": {},
   "outputs": [],
   "source": [
    "# Get current positions\n",
    "positions = ib.positions()\n",
    "\n",
    "# Print the positions\n",
    "for position in positions:\n",
    "    print(f\"Symbol: {position.contract.symbol}, Quantity: {position.position}\")\n"
   ]
  },
  {
   "cell_type": "code",
   "execution_count": null,
   "id": "43d03ea0",
   "metadata": {},
   "outputs": [],
   "source": [
    "# Loop through your positions and creating trailing stop orders\n",
    "for position in positions:\n",
    "    contract = position.contract\n",
    "    quantity = position.position\n",
    "    \n",
    "    if quantity > 0:  # Only create trailing stop orders for long positions\n",
    "        # Define the trailing stop order\n",
    "        trailing_stop_order = Order(\n",
    "            action = 'SELL',  # Sell to exit the position\n",
    "            orderType = 'TRAIL',\n",
    "            totalQuantity = abs(quantity),\n",
    "            trailingPercent = 10.0,  # Adjust the trailing percentage as needed\n",
    "            tif = 'GTC'\n",
    "        )\n",
    "\n",
    "        # Submit the order\n",
    "        trade = ib.placeOrder(contract, trailing_stop_order)\n",
    "        print(f\"Trailing stop order placed for {contract.symbol}, to sell a Quantity of {quantity}\")"
   ]
  },
  {
   "cell_type": "code",
   "execution_count": null,
   "id": "b0957f4f",
   "metadata": {},
   "outputs": [],
   "source": [
    "# Fetch open orders\n",
    "open_orders = ib.openOrders()\n",
    "for open_order in open_orders:\n",
    "    print(f\"Open Orders: {open_orders}\")\n",
    "\n",
    "ib.disconnect()"
   ]
  },
  {
   "cell_type": "code",
   "execution_count": null,
   "id": "5e8f8a60",
   "metadata": {},
   "outputs": [],
   "source": []
  }
 ],
 "metadata": {
  "kernelspec": {
   "display_name": "quant3 (3.9.19)",
   "language": "python",
   "name": "python3"
  },
  "language_info": {
   "codemirror_mode": {
    "name": "ipython",
    "version": 3
   },
   "file_extension": ".py",
   "mimetype": "text/x-python",
   "name": "python",
   "nbconvert_exporter": "python",
   "pygments_lexer": "ipython3",
   "version": "3.9.19"
  }
 },
 "nbformat": 4,
 "nbformat_minor": 5
}
